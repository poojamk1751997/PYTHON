{
 "cells": [
  {
   "cell_type": "code",
   "execution_count": null,
   "metadata": {},
   "outputs": [],
   "source": []
  },
  {
   "cell_type": "markdown",
   "metadata": {
    "collapsed": true
   },
   "source": [
    "# List Comprehensions\n",
    "\n",
    "In addition to sequence operations and list methods, Python includes a more advanced operation called a list comprehension.\n",
    "\n",
    "List comprehensions allow us to build out lists using a different notation. You can think of it as essentially a one line <code>for</code> loop built inside of brackets. For a simple example:\n",
    "#### Example 1"
   ]
  },
  {
   "cell_type": "code",
   "execution_count": 1,
   "metadata": {},
   "outputs": [
    {
     "data": {
      "text/plain": [
       "['p', 'o', 'o', 'j', 'a']"
      ]
     },
     "execution_count": 1,
     "metadata": {},
     "output_type": "execute_result"
    }
   ],
   "source": [
    "# Grab every letter in string\n",
    "word='pooja'\n",
    "lst=[x for x in word]\n",
    "lst"
   ]
  },
  {
   "cell_type": "code",
   "execution_count": 4,
   "metadata": {},
   "outputs": [
    {
     "data": {
      "text/plain": [
       "['m', 'a', 'm', 'a', 't', 'h', 'a']"
      ]
     },
     "execution_count": 4,
     "metadata": {},
     "output_type": "execute_result"
    }
   ],
   "source": [
    "#example2 instead of this use the above list comprehensions\n",
    "word='mamatha'\n",
    "lst=[]\n",
    "for i in word:\n",
    "    lst.append(i)\n",
    "lst"
   ]
  },
  {
   "cell_type": "markdown",
   "metadata": {},
   "source": [
    "\n",
    "#### Example 2"
   ]
  },
  {
   "cell_type": "code",
   "execution_count": 7,
   "metadata": {},
   "outputs": [
    {
     "data": {
      "text/plain": [
       "[0, 1, 4, 9, 16, 25, 36, 49, 64, 81]"
      ]
     },
     "execution_count": 7,
     "metadata": {},
     "output_type": "execute_result"
    }
   ],
   "source": [
    "# Square numbers in range and turn into list\n",
    "lst=[i**2 for i in range(10)]\n",
    "lst"
   ]
  },
  {
   "cell_type": "code",
   "execution_count": 8,
   "metadata": {},
   "outputs": [
    {
     "data": {
      "text/plain": [
       "[0, 1, 2, 3, 4, 5, 6, 7, 8, 9]"
      ]
     },
     "execution_count": 8,
     "metadata": {},
     "output_type": "execute_result"
    }
   ],
   "source": [
    "#this is for only in range not the square of range \n",
    "lst=[i for i in range(10)]\n",
    "lst"
   ]
  },
  {
   "cell_type": "markdown",
   "metadata": {},
   "source": [
    "#### Example 3\n",
    "Let's see how to add in <code>if</code> statements:"
   ]
  },
  {
   "cell_type": "code",
   "execution_count": 21,
   "metadata": {},
   "outputs": [
    {
     "data": {
      "text/plain": [
       "[0, 2, 4, 6, 8]"
      ]
     },
     "execution_count": 21,
     "metadata": {},
     "output_type": "execute_result"
    }
   ],
   "source": [
    "# Check for even numbers in a range\n",
    "lst=[i for i in range(10) if(i%2==0)]\n",
    "lst\n"
   ]
  },
  {
   "cell_type": "markdown",
   "metadata": {},
   "source": [
    "#### Example 4\n",
    "Can also do more complicated arithmetic:"
   ]
  },
  {
   "cell_type": "code",
   "execution_count": 47,
   "metadata": {},
   "outputs": [
    {
     "name": "stdout",
     "output_type": "stream",
     "text": [
      "[32.0, 50.0, 68.18, 94.1]\n",
      "[32, 50, 68, 94]\n",
      "[32, 50, 68, 94]\n"
     ]
    }
   ],
   "source": [
    "# Convert Celsius to Fahrenheit\n",
    "celsius = [0,10,20.1,34.5]\n",
    "feh=[(9/5*i+32) for i in celsius ]\n",
    "print(feh)\n",
    "feh=[int(9/5*i+32) for i in celsius ]\n",
    "print(feh)\n",
    "feh=[round(9/5*i+32) for i in celsius ]\n",
    "print(feh)\n",
    "\n",
    "\n"
   ]
  },
  {
   "cell_type": "markdown",
   "metadata": {},
   "source": [
    "#### Example 5\n",
    "We can also perform nested list comprehensions, for example:"
   ]
  },
  {
   "cell_type": "code",
   "execution_count": 52,
   "metadata": {},
   "outputs": [
    {
     "data": {
      "text/plain": [
       "[0, 1, 16]"
      ]
     },
     "execution_count": 52,
     "metadata": {},
     "output_type": "execute_result"
    }
   ],
   "source": [
    "lst=[x**2 for x in [i**2 for i in range(3)]]\n",
    "lst\n"
   ]
  },
  {
   "cell_type": "markdown",
   "metadata": {},
   "source": [
    "# Exercise:\n"
   ]
  },
  {
   "cell_type": "markdown",
   "metadata": {},
   "source": [
    "####  Write a Python program to find those numbers which are divisible by 7 and multiple of 5, between 1500 and 2700 (both included)"
   ]
  },
  {
   "cell_type": "code",
   "execution_count": 67,
   "metadata": {},
   "outputs": [
    {
     "data": {
      "text/plain": [
       "[1505,\n",
       " 1540,\n",
       " 1575,\n",
       " 1610,\n",
       " 1645,\n",
       " 1680,\n",
       " 1715,\n",
       " 1750,\n",
       " 1785,\n",
       " 1820,\n",
       " 1855,\n",
       " 1890,\n",
       " 1925,\n",
       " 1960,\n",
       " 1995,\n",
       " 2030,\n",
       " 2065,\n",
       " 2100,\n",
       " 2135,\n",
       " 2170,\n",
       " 2205,\n",
       " 2240,\n",
       " 2275,\n",
       " 2310,\n",
       " 2345,\n",
       " 2380,\n",
       " 2415,\n",
       " 2450,\n",
       " 2485,\n",
       " 2520,\n",
       " 2555,\n",
       " 2590,\n",
       " 2625,\n",
       " 2660,\n",
       " 2695]"
      ]
     },
     "execution_count": 67,
     "metadata": {},
     "output_type": "execute_result"
    }
   ],
   "source": [
    "lst=[i for i in range(1501,2701) if(i%7==0 and i%5==0)]\n",
    "lst\n",
    "\n"
   ]
  },
  {
   "cell_type": "code",
   "execution_count": 64,
   "metadata": {},
   "outputs": [
    {
     "data": {
      "text/plain": [
       "[1505,\n",
       " 1540,\n",
       " 1575,\n",
       " 1610,\n",
       " 1645,\n",
       " 1680,\n",
       " 1715,\n",
       " 1750,\n",
       " 1785,\n",
       " 1820,\n",
       " 1855,\n",
       " 1890,\n",
       " 1925,\n",
       " 1960,\n",
       " 1995,\n",
       " 2030,\n",
       " 2065,\n",
       " 2100,\n",
       " 2135,\n",
       " 2170,\n",
       " 2205,\n",
       " 2240,\n",
       " 2275,\n",
       " 2310,\n",
       " 2345,\n",
       " 2380,\n",
       " 2415,\n",
       " 2450,\n",
       " 2485,\n",
       " 2520,\n",
       " 2555,\n",
       " 2590,\n",
       " 2625,\n",
       " 2660,\n",
       " 2695]"
      ]
     },
     "execution_count": 64,
     "metadata": {},
     "output_type": "execute_result"
    }
   ],
   "source": [
    "#reduce the code line\n",
    "lst=[i for i in range(1500,2700,5) if(i%7==0)]\n",
    "lst"
   ]
  },
  {
   "cell_type": "markdown",
   "metadata": {},
   "source": [
    "#### Write a Python program to convert temperatures to and from celsius, fahrenheit.\n",
    "[ Formula : c/5 = f-32/9 [ where c = temperature in celsius and f = temperature in fahrenheit ] \n",
    "\n",
    "Expected Output : \n",
    "\n",
    "60°C is 140 in Fahrenheit\n",
    "\n",
    "45°F is 7 in Celsius "
   ]
  },
  {
   "cell_type": "code",
   "execution_count": 8,
   "metadata": {},
   "outputs": [
    {
     "name": "stdout",
     "output_type": "stream",
     "text": [
      "Input the  temperature you like to convert? (e.g., 45F, 102C etc.) : 60c\n",
      "140.0 in Fahrenheit\n"
     ]
    }
   ],
   "source": [
    "temp = input(\"Input the  temperature you like to convert? (e.g., 45F, 102C etc.) : \")\n",
    "degree = int(temp[:-1])\n",
    "conv = temp[-1]\n",
    "\n",
    "if(conv.upper()=='C'):\n",
    "    f=(9/5*degree+32)\n",
    "    print(f,'in Fahrenheit')\n",
    "elif(conv.upper()=='F'):\n",
    "    c=(5/9*degree-32)\n",
    "    print(c,'in Celsius')\n",
    "else:\n",
    "    print('error')\n",
    "    \n",
    "\n"
   ]
  },
  {
   "cell_type": "markdown",
   "metadata": {},
   "source": [
    "#### Write a Python program to check whether an alphabet is a vowel or consonant\n"
   ]
  },
  {
   "cell_type": "code",
   "execution_count": 7,
   "metadata": {},
   "outputs": [
    {
     "name": "stdout",
     "output_type": "stream",
     "text": [
      "p\n",
      "p is consonant\n"
     ]
    }
   ],
   "source": [
    "alp=input()\n",
    "if(alp.upper()=='A' or alp.upper()=='E' or alp.upper()=='I' or alp.upper()=='O' or alp.upper()=='U' ):\n",
    "    print(alp,'is vowel')\n",
    "else:\n",
    "    print(alp,'is consonant')\n",
    "\n"
   ]
  },
  {
   "cell_type": "markdown",
   "metadata": {},
   "source": [
    "####   Write a Python program to get the sum of two given integers. However, if the sum is between 15 to 20 it will return 20."
   ]
  },
  {
   "cell_type": "code",
   "execution_count": 15,
   "metadata": {},
   "outputs": [
    {
     "name": "stdout",
     "output_type": "stream",
     "text": [
      "15\n",
      "2\n",
      "sum is 20 because result is between 15 to 20\n"
     ]
    }
   ],
   "source": [
    "n1=input()\n",
    "p1=int(n1)\n",
    "n2=input()\n",
    "p2=int(n2)\n",
    "sum=p1+p2\n",
    "if(sum>15 and sum<20):\n",
    "    print('sum is 20 because result is between 15 to 20')\n",
    "else:\n",
    "    print('sum is',sum)\n"
   ]
  },
  {
   "cell_type": "markdown",
   "metadata": {},
   "source": [
    "####  Write a Python program that prints the total number of days in a month if  month name is given\n"
   ]
  },
  {
   "cell_type": "code",
   "execution_count": 16,
   "metadata": {},
   "outputs": [
    {
     "name": "stdout",
     "output_type": "stream",
     "text": [
      "jan\n",
      "the total number of days is 31\n"
     ]
    }
   ],
   "source": [
    "month=input()\n",
    "if(month=='jan' or month=='mar' or month=='may' or month=='jul' or month=='aug' or month=='oct' or month=='dec'):\n",
    "    print('the total number of days is 31')\n",
    "elif(month=='apr' or month=='jun' or month=='sep' or month=='nov'):\n",
    "      print('the total number of days is 30')\n",
    "elif(month=='feb'):\n",
    "    print('the total number of days is 28')\n",
    "else:\n",
    "    print('error')\n",
    "    "
   ]
  },
  {
   "cell_type": "markdown",
   "metadata": {},
   "source": [
    "#### Write a Python program to display astrological sign for given date of birth. \n",
    "\n",
    "Expected Output:\n",
    "\n",
    "Input birthday: 15                                                      \n",
    "\n",
    "Input month of birth (e.g. march, july etc): may                        \n",
    "\n",
    "Your Astrological sign is : Taurus"
   ]
  },
  {
   "cell_type": "code",
   "execution_count": 203,
   "metadata": {},
   "outputs": [
    {
     "name": "stdout",
     "output_type": "stream",
     "text": [
      "jul\n",
      "25\n",
      "leo\n"
     ]
    }
   ],
   "source": [
    "mon=input()\n",
    "date=input()\n",
    "dat=int(date)\n",
    "if (mon=='mar'and  dat>=21) or (mon=='apr'and dat<=19):\n",
    "    print('aries')\n",
    "elif (mon=='apr'and  dat>=20) or (mon=='may'and dat<=20):\n",
    "    print('taurus')\n",
    "elif (mon=='may'and  dat>=21) or (mon=='jun'and dat<=20):\n",
    "    print('gemini')\n",
    "elif (mon=='jun'and  dat>=21) or (mon=='jul'and dat<=22):\n",
    "    print('cancer')\n",
    "elif (mon=='jul'and  dat>=23) or (mon=='aug'and dat<=22):\n",
    "    print('leo')\n",
    "elif (mon=='aug'and  dat>=23) or (mon=='sep'and dat<=22):\n",
    "    print('virgo')\n",
    "elif (mon=='sep'and  dat>=23) or (mon=='oct'and dat<=22):\n",
    "    print('libra')\n",
    "elif (mon=='oct'and  dat>=23) or (mon=='nov'and dat<=21):\n",
    "    print('scorpio')\n",
    "elif (mon=='nov'and  dat>=22) or (mon=='dec'and dat<=21):\n",
    "    print('sagittarius')\n",
    "elif (mon=='dec'and  dat>=22) or (mon=='jan'and dat<=19):\n",
    "    print('capricorn')\n",
    "elif (mon=='jan'and  dat>=20) or (mon=='feb'and dat<=18):\n",
    "    print('aquarius')\n",
    "elif (mon=='feb'and  dat>=19) or (mon=='mar'and dat<=20):\n",
    "    print('pisces')"
   ]
  },
  {
   "attachments": {
    "image.png": {
     "image/png": "[encoded data removed]"
    }
   },
   "cell_type": "markdown",
   "metadata": {},
   "source": [
    "####  Write a Python program to print alphabet pattern 'Z'\n",
    "Expected Output:\n",
    "![image.png](attachment:image.png)"
   ]
  },
  {
   "cell_type": "code",
   "execution_count": 33,
   "metadata": {},
   "outputs": [
    {
     "name": "stdout",
     "output_type": "stream",
     "text": [
      "*******\n",
      "     * \n",
      "    *  \n",
      "   *   \n",
      "  *    \n",
      " *     \n",
      "*******\n",
      "\n"
     ]
    }
   ],
   "source": [
    "\n",
    "s=''\n",
    "for row in range(0,7):\n",
    "    for col in range(0,7):\n",
    "        if(row==0 or row==6 or row+col==6):\n",
    "            s=(s+'*')\n",
    "        else:\n",
    "            s=(s+' ')\n",
    "    s=s+'\\n'\n",
    "print(s)"
   ]
  },
  {
   "cell_type": "code",
   "execution_count": 31,
   "metadata": {
    "scrolled": true
   },
   "outputs": [
    {
     "name": "stdout",
     "output_type": "stream",
     "text": [
      "*******\n",
      "     * \n",
      "    *  \n",
      "   *   \n",
      "  *    \n",
      " *     \n",
      "*******\n",
      "\n"
     ]
    }
   ],
   "source": [
    "# or another logic\n",
    "str=''\n",
    "for row in range(0,7):\n",
    "    for col in range(0,7):\n",
    "        if(((row==0 or row==6)and col>=0 and col<=6) or col+row==6):\n",
    "            str=(str+'*')\n",
    "        else:\n",
    "            str=(str+' ')\n",
    "    str=str+'\\n'\n",
    "print(str)\n"
   ]
  },
  {
   "attachments": {
    "image.png": {
     "image/png": "[encoded data removed]"
    }
   },
   "cell_type": "markdown",
   "metadata": {},
   "source": [
    "#### Write a Python program to construct the following pattern, using a nested for loop.\n",
    "\n",
    "![image.png](attachment:image.png)\n"
   ]
  },
  {
   "cell_type": "code",
   "execution_count": 66,
   "metadata": {},
   "outputs": [
    {
     "name": "stdout",
     "output_type": "stream",
     "text": [
      "* \n",
      "* * \n",
      "* * * \n",
      "* * * * \n",
      "* * * * * \n",
      "* * * * * * \n",
      "* * * * * \n",
      "* * * * \n",
      "* * * \n",
      "* * \n",
      "* \n"
     ]
    }
   ],
   "source": [
    "n=6\n",
    "for row in range(n):\n",
    "    for col in range(n):\n",
    "        if row>=col:\n",
    "            print('* ',end='')\n",
    "    print('')\n",
    "for row in range(n-1):\n",
    "    for col in range(n-1):\n",
    "        if row+col<=n-2:\n",
    "            print('* ',end='')\n",
    "    print('')\n",
    "        "
   ]
  },
  {
   "cell_type": "code",
   "execution_count": 2,
   "metadata": {},
   "outputs": [
    {
     "name": "stdout",
     "output_type": "stream",
     "text": [
      "\n",
      "* \n",
      "* * \n",
      "* * * \n",
      "* * * * \n",
      "* * * * * \n",
      "* * * * \n",
      "* * * \n",
      "* * \n",
      "* \n"
     ]
    }
   ],
   "source": []
  },
  {
   "attachments": {
    "image.png": {
     "image/png": "[encoded data removed]"
    }
   },
   "cell_type": "markdown",
   "metadata": {},
   "source": [
    "####  Write a Python program to print alphabet pattern 'U'.\n",
    "Expected Output\n",
    "![image.png](attachment:image.png)"
   ]
  },
  {
   "cell_type": "code",
   "execution_count": 122,
   "metadata": {},
   "outputs": [
    {
     "name": "stdout",
     "output_type": "stream",
     "text": [
      "*       * \n",
      "*       * \n",
      "*       * \n",
      "*       * \n",
      "*       * \n",
      "*       * \n",
      "*       * \n",
      "  * * *   \n"
     ]
    }
   ],
   "source": [
    "n=8\n",
    "m=5\n",
    "for i in range(n):\n",
    "    for j in range(m):\n",
    "        if (i<n-1 and (j==0 or j==m-1)) or (i==n-1 and j>0 and j<m-1):\n",
    "            print('*',end=' ') \n",
    "        else:\n",
    "            print(' ',end=' ')\n",
    "    print('')\n",
    "\n"
   ]
  },
  {
   "cell_type": "code",
   "execution_count": 121,
   "metadata": {},
   "outputs": [
    {
     "name": "stdout",
     "output_type": "stream",
     "text": [
      "*    *\n",
      "*    *\n",
      "*    *\n",
      "*    *\n",
      "*    *\n",
      "******\n"
     ]
    }
   ],
   "source": [
    "n=6\n",
    "for row in range(n):\n",
    "    for col in range(n):\n",
    "        if (col==0 and row<n-1)or(col==n-1 and row<n-1)or(row==n-1):\n",
    "            print('*',end='')\n",
    "        else:\n",
    "            print(' ',end='')\n",
    "            \n",
    "    print('')\n"
   ]
  },
  {
   "attachments": {
    "image.png": {
     "image/png": "[encoded data removed]"
    }
   },
   "cell_type": "markdown",
   "metadata": {},
   "source": [
    "####  Write a Python program to print alphabet pattern 'T'\n",
    "Expected Output:\n",
    "![image.png](attachment:image.png)"
   ]
  },
  {
   "cell_type": "code",
   "execution_count": 204,
   "metadata": {},
   "outputs": [
    {
     "name": "stdout",
     "output_type": "stream",
     "text": [
      "* * * * * \n",
      "    *     \n",
      "    *     \n",
      "    *     \n",
      "    *     \n",
      "    *     \n",
      "    *     \n"
     ]
    }
   ],
   "source": [
    "\n",
    "for i in range(7):\n",
    "    for j in range(5):\n",
    "        if i==0 or j==2:\n",
    "            print('*',end=' ') \n",
    "        else:\n",
    "            print(' ',end=' ')\n",
    "    print('')\n",
    "\n",
    "\n"
   ]
  },
  {
   "cell_type": "markdown",
   "metadata": {},
   "source": [
    "####  Write a Python program that accepts a word from the user and reverse it."
   ]
  },
  {
   "cell_type": "code",
   "execution_count": 172,
   "metadata": {},
   "outputs": [
    {
     "name": "stdout",
     "output_type": "stream",
     "text": [
      "poi\n",
      "iop\n"
     ]
    }
   ],
   "source": [
    "word=input()\n",
    "\n",
    "for i in range(len(word)-1,-1,-1):\n",
    "    print(word[i],end='')\n",
    "print('')\n",
    "    \n",
    "\n",
    "\n",
    "    \n",
    "   \n",
    "\n",
    "    \n",
    "    "
   ]
  },
  {
   "cell_type": "markdown",
   "metadata": {},
   "source": [
    "#### Write a Python program to count the number of even and odd numbers from a series of numbers\n",
    "\n",
    "Sample numbers : numbers = (1, 2, 3, 4, 5, 6, 7, 8, 9) \n",
    "\n",
    "Expected Output : \n",
    "\n",
    "Number of even numbers : 5\n",
    "\n",
    "Number of odd numbers : 4"
   ]
  },
  {
   "cell_type": "code",
   "execution_count": 155,
   "metadata": {},
   "outputs": [
    {
     "name": "stdout",
     "output_type": "stream",
     "text": [
      "Number of even numbers : 3\n",
      "Number of even numbers : 2\n"
     ]
    }
   ],
   "source": [
    "c=0\n",
    "d=0\n",
    "\n",
    "for i in range(5):\n",
    "    if(i%2==0):\n",
    "        c=c+1\n",
    "    else:\n",
    "        d=d+1\n",
    "print('Number of even numbers :',c)\n",
    "print('Number of odd numbers :',d)\n",
    "        "
   ]
  },
  {
   "cell_type": "markdown",
   "metadata": {},
   "source": [
    "#### Write a Python program that prints each item and its corresponding type from the following list.\n",
    "\n",
    "Sample List : datalist = [1452, 11.23, 1+2j, True, 'TestYantra', (0, -1), [5, 12], {\"class\":'V', \"section\":'A'}]"
   ]
  },
  {
   "cell_type": "code",
   "execution_count": 169,
   "metadata": {},
   "outputs": [
    {
     "name": "stdout",
     "output_type": "stream",
     "text": [
      "1452 <class 'int'>\n",
      "11.23 <class 'float'>\n",
      "(1+2j) <class 'complex'>\n",
      "True <class 'bool'>\n",
      "TestYantra <class 'str'>\n"
     ]
    }
   ],
   "source": [
    " da = [1452, 11.23, 1+2j, True, 'TestYantra']\n",
    "    \n",
    "for i in da:\n",
    "    p=type(i)\n",
    "    print(i,p)\n",
    "    \n",
    "        \n",
    "        "
   ]
  },
  {
   "cell_type": "markdown",
   "metadata": {},
   "source": [
    "#### Write a Python program that prints all the numbers from 0 to 6 except 3 and 6.\n",
    " \n",
    "Expected Output : 0 1 2 4 5 "
   ]
  },
  {
   "cell_type": "code",
   "execution_count": 158,
   "metadata": {},
   "outputs": [
    {
     "name": "stdout",
     "output_type": "stream",
     "text": [
      "0\n",
      "1\n",
      "2\n",
      "4\n",
      "5\n"
     ]
    }
   ],
   "source": [
    "for i in range(7):\n",
    "    if(i!=3 and i!=6):\n",
    "        print(i)"
   ]
  },
  {
   "cell_type": "markdown",
   "metadata": {},
   "source": [
    "#### Write a Python program to get the Fibonacci series between 0 to 50\n",
    "\n",
    "Note : The Fibonacci Sequence is the series of numbers :\n",
    "\n",
    "0, 1, 1, 2, 3, 5, 8, 13, 21, .... \n",
    "\n",
    "Every next number is found by adding up the two numbers before it.\n",
    "\n",
    "Expected Output : 1 1 2 3 5 8 13 21 34"
   ]
  },
  {
   "cell_type": "code",
   "execution_count": 201,
   "metadata": {},
   "outputs": [
    {
     "data": {
      "text/plain": [
       "[1, 1, 2, 3, 5, 8, 13, 21, 34, 55, 89, 144, 233, 377, 610, 987]"
      ]
     },
     "execution_count": 201,
     "metadata": {},
     "output_type": "execute_result"
    }
   ],
   "source": [
    "lst=[1,1]\n",
    "\n",
    "for i in range(1,15):\n",
    "    a=lst[i]+lst[i-1]\n",
    "    lst.append(a)\n",
    "lst\n",
    "    "
   ]
  },
  {
   "cell_type": "markdown",
   "metadata": {},
   "source": [
    "#### Write a Python program to create the multiplication table (from 1 to 10) of a number.\n",
    "\n",
    "Expected Output:\n",
    "\n",
    "Input a number: 6                                                       \n",
    "\n",
    "6 x 1 = 6                                                               \n",
    "\n",
    "6 x 2 = 12                                                              \n",
    "\n",
    "6 x 3 = 18                                                              \n",
    "\n",
    "6 x 4 = 24                                                              \n",
    "\n",
    "6 x 5 = 30                                                              \n",
    "\n",
    "6 x 6 = 36                                                              \n",
    "\n",
    "6 x 7 = 42                                                              \n",
    "\n",
    "6 x 8 = 48                                                              \n",
    "\n",
    "6 x 9 = 54                                                              \n",
    "\n",
    "6 x 10 = 60 "
   ]
  },
  {
   "cell_type": "code",
   "execution_count": 191,
   "metadata": {},
   "outputs": [
    {
     "name": "stdout",
     "output_type": "stream",
     "text": [
      "6\n",
      "6 * 1 = 6\n",
      "6 * 2 = 12\n",
      "6 * 3 = 18\n",
      "6 * 4 = 24\n",
      "6 * 5 = 30\n",
      "6 * 6 = 36\n",
      "6 * 7 = 42\n",
      "6 * 8 = 48\n",
      "6 * 9 = 54\n",
      "6 * 10 = 60\n"
     ]
    }
   ],
   "source": [
    "n=input()\n",
    "num=int(n)\n",
    "j=0\n",
    "for i in range(10):\n",
    "    j=j+num\n",
    "    print(num,'*',i+1,'=',j)\n",
    "    \n",
    "    \n",
    "        \n",
    "        "
   ]
  },
  {
   "cell_type": "markdown",
   "metadata": {},
   "source": [
    "#### Write a Python program to calculate the sum and average of n integer numbers"
   ]
  },
  {
   "cell_type": "code",
   "execution_count": 196,
   "metadata": {},
   "outputs": [
    {
     "name": "stdout",
     "output_type": "stream",
     "text": [
      "sum is 6\n",
      "avg is 2.0\n"
     ]
    }
   ],
   "source": [
    "sum=0\n",
    "avg=0\n",
    "num=(1,2,3)\n",
    "c=len(num)\n",
    "for i in num:\n",
    "    sum=sum+i\n",
    "    avg=sum/c\n",
    "print('sum is',sum)\n",
    "print('avg is',avg)\n",
    "    "
   ]
  },
  {
   "cell_type": "code",
   "execution_count": null,
   "metadata": {},
   "outputs": [],
   "source": []
  }
 ],
 "metadata": {
  "kernelspec": {
   "display_name": "Python 3",
   "language": "python",
   "name": "python3"
  },
  "language_info": {
   "codemirror_mode": {
    "name": "ipython",
    "version": 3
   },
   "file_extension": ".py",
   "mimetype": "text/x-python",
   "name": "python",
   "nbconvert_exporter": "python",
   "pygments_lexer": "ipython3",
   "version": "3.7.3"
  }
 },
 "nbformat": 4,
 "nbformat_minor": 2
}
